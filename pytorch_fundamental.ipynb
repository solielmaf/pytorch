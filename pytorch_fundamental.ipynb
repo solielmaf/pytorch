{
  "nbformat": 4,
  "nbformat_minor": 0,
  "metadata": {
    "colab": {
      "provenance": [],
      "gpuType": "T4",
      "authorship_tag": "ABX9TyMoDquYE6Dno1LHfGTMeIPV",
      "include_colab_link": true
    },
    "kernelspec": {
      "name": "python3",
      "display_name": "Python 3"
    },
    "language_info": {
      "name": "python"
    },
    "accelerator": "GPU"
  },
  "cells": [
    {
      "cell_type": "markdown",
      "metadata": {
        "id": "view-in-github",
        "colab_type": "text"
      },
      "source": [
        "<a href=\"https://colab.research.google.com/github/solielmaf/pytorch/blob/main/pytorch_fundamental.ipynb\" target=\"_parent\"><img src=\"https://colab.research.google.com/assets/colab-badge.svg\" alt=\"Open In Colab\"/></a>"
      ]
    },
    {
      "cell_type": "code",
      "execution_count": 3,
      "metadata": {
        "id": "ZP42CEaOzx4S",
        "colab": {
          "base_uri": "https://localhost:8080/"
        },
        "outputId": "18c2a21b-0617-48ba-e4e8-28ff5e745b18"
      },
      "outputs": [
        {
          "output_type": "stream",
          "name": "stdout",
          "text": [
            "2.8.0+cu126\n"
          ]
        }
      ],
      "source": [
        "import torch\n",
        "import pandas as pd\n",
        "import numpy as np\n",
        "import matplotlib.pyplot as plt\n",
        "print(torch.__version__)"
      ]
    },
    {
      "cell_type": "code",
      "source": [
        "!nvidia-smi"
      ],
      "metadata": {
        "colab": {
          "base_uri": "https://localhost:8080/"
        },
        "id": "HORmgcnk31ap",
        "outputId": "8a92fbd0-6f97-445c-ac61-a1de0e32944c"
      },
      "execution_count": 3,
      "outputs": [
        {
          "output_type": "stream",
          "name": "stdout",
          "text": [
            "Sat Oct  4 06:37:34 2025       \n",
            "+-----------------------------------------------------------------------------------------+\n",
            "| NVIDIA-SMI 550.54.15              Driver Version: 550.54.15      CUDA Version: 12.4     |\n",
            "|-----------------------------------------+------------------------+----------------------+\n",
            "| GPU  Name                 Persistence-M | Bus-Id          Disp.A | Volatile Uncorr. ECC |\n",
            "| Fan  Temp   Perf          Pwr:Usage/Cap |           Memory-Usage | GPU-Util  Compute M. |\n",
            "|                                         |                        |               MIG M. |\n",
            "|=========================================+========================+======================|\n",
            "|   0  Tesla T4                       Off |   00000000:00:04.0 Off |                    0 |\n",
            "| N/A   43C    P8             10W /   70W |       0MiB /  15360MiB |      0%      Default |\n",
            "|                                         |                        |                  N/A |\n",
            "+-----------------------------------------+------------------------+----------------------+\n",
            "                                                                                         \n",
            "+-----------------------------------------------------------------------------------------+\n",
            "| Processes:                                                                              |\n",
            "|  GPU   GI   CI        PID   Type   Process name                              GPU Memory |\n",
            "|        ID   ID                                                               Usage      |\n",
            "|=========================================================================================|\n",
            "|  No running processes found                                                             |\n",
            "+-----------------------------------------------------------------------------------------+\n"
          ]
        }
      ]
    },
    {
      "cell_type": "markdown",
      "source": [
        "### Creating Tensor\n"
      ],
      "metadata": {
        "id": "jY6ctuQT_vh_"
      }
    },
    {
      "cell_type": "code",
      "source": [
        "#scalar\n",
        "scalar = torch.tensor(5)\n",
        "scalar"
      ],
      "metadata": {
        "colab": {
          "base_uri": "https://localhost:8080/"
        },
        "id": "6XcmHRsB_zeh",
        "outputId": "064a39a9-67f5-41f0-c0ff-2431ebf35e63"
      },
      "execution_count": null,
      "outputs": [
        {
          "output_type": "execute_result",
          "data": {
            "text/plain": [
              "tensor(5)"
            ]
          },
          "metadata": {},
          "execution_count": 4
        }
      ]
    },
    {
      "cell_type": "code",
      "source": [
        "# dimensions of the tensor\n",
        "scalar.ndim\n"
      ],
      "metadata": {
        "colab": {
          "base_uri": "https://localhost:8080/"
        },
        "id": "GQMxlp1_CPdZ",
        "outputId": "fdf9a8fe-f4cc-48b5-c941-bee64db5b67a"
      },
      "execution_count": null,
      "outputs": [
        {
          "output_type": "execute_result",
          "data": {
            "text/plain": [
              "0"
            ]
          },
          "metadata": {},
          "execution_count": 5
        }
      ]
    },
    {
      "cell_type": "code",
      "source": [
        "# get tensor back as python init\n",
        "scalar.item()"
      ],
      "metadata": {
        "colab": {
          "base_uri": "https://localhost:8080/"
        },
        "id": "mUMdK_GICYL2",
        "outputId": "a55e52d7-d211-41cd-d67c-d4b68bd67247"
      },
      "execution_count": null,
      "outputs": [
        {
          "output_type": "execute_result",
          "data": {
            "text/plain": [
              "5"
            ]
          },
          "metadata": {},
          "execution_count": 6
        }
      ]
    },
    {
      "cell_type": "code",
      "source": [
        "#Vector\n",
        "vector=torch.tensor([2,2])\n",
        "vector"
      ],
      "metadata": {
        "colab": {
          "base_uri": "https://localhost:8080/"
        },
        "id": "Gkx7QKrIC_tN",
        "outputId": "32cb0797-50fc-4734-c850-52f07fe08584"
      },
      "execution_count": null,
      "outputs": [
        {
          "output_type": "execute_result",
          "data": {
            "text/plain": [
              "tensor([2, 2])"
            ]
          },
          "metadata": {},
          "execution_count": 7
        }
      ]
    },
    {
      "cell_type": "code",
      "source": [
        "vector.ndim"
      ],
      "metadata": {
        "colab": {
          "base_uri": "https://localhost:8080/"
        },
        "id": "dPro-2s7Dhtv",
        "outputId": "5a9f8a97-e673-4187-f1c7-dac9bb648bb3"
      },
      "execution_count": null,
      "outputs": [
        {
          "output_type": "execute_result",
          "data": {
            "text/plain": [
              "1"
            ]
          },
          "metadata": {},
          "execution_count": 8
        }
      ]
    },
    {
      "cell_type": "code",
      "source": [
        "vector.shape"
      ],
      "metadata": {
        "colab": {
          "base_uri": "https://localhost:8080/"
        },
        "id": "DvVy8VwVDtY7",
        "outputId": "70580481-cfb6-435b-8aa7-0faa15fb1dfe"
      },
      "execution_count": null,
      "outputs": [
        {
          "output_type": "execute_result",
          "data": {
            "text/plain": [
              "torch.Size([2])"
            ]
          },
          "metadata": {},
          "execution_count": 9
        }
      ]
    },
    {
      "cell_type": "code",
      "source": [
        "vector[0].item()"
      ],
      "metadata": {
        "colab": {
          "base_uri": "https://localhost:8080/"
        },
        "id": "f2xYMjEwEE9J",
        "outputId": "13e679d2-d0d3-4d69-9657-6cb800132f75"
      },
      "execution_count": null,
      "outputs": [
        {
          "output_type": "execute_result",
          "data": {
            "text/plain": [
              "2"
            ]
          },
          "metadata": {},
          "execution_count": 10
        }
      ]
    },
    {
      "cell_type": "code",
      "source": [
        "#Matrix\n",
        "MATRIX = torch.tensor([[2,3],[4,2]])\n",
        "MATRIX"
      ],
      "metadata": {
        "colab": {
          "base_uri": "https://localhost:8080/"
        },
        "id": "bmDU9rKrEQi-",
        "outputId": "bad627f4-228c-482e-e72b-314bd3bbaa78"
      },
      "execution_count": null,
      "outputs": [
        {
          "output_type": "execute_result",
          "data": {
            "text/plain": [
              "tensor([[2, 3],\n",
              "        [4, 2]])"
            ]
          },
          "metadata": {},
          "execution_count": 11
        }
      ]
    },
    {
      "cell_type": "code",
      "source": [
        "# TENSOR\n",
        "TENSOR = torch.tensor([[[[1,1,2],[3,4,4],[4,7,9]],[[1,2,2],[3,3,3],[4,3,5]]]])\n",
        "TENSOR"
      ],
      "metadata": {
        "colab": {
          "base_uri": "https://localhost:8080/"
        },
        "id": "19u6gS1TGAwE",
        "outputId": "5906a9db-b7b5-47c8-a376-2811b2159e9f"
      },
      "execution_count": null,
      "outputs": [
        {
          "output_type": "execute_result",
          "data": {
            "text/plain": [
              "tensor([[[[1, 1, 2],\n",
              "          [3, 4, 4],\n",
              "          [4, 7, 9]],\n",
              "\n",
              "         [[1, 2, 2],\n",
              "          [3, 3, 3],\n",
              "          [4, 3, 5]]]])"
            ]
          },
          "metadata": {},
          "execution_count": 18
        }
      ]
    },
    {
      "cell_type": "code",
      "source": [
        "TENSOR.shape"
      ],
      "metadata": {
        "colab": {
          "base_uri": "https://localhost:8080/"
        },
        "id": "H4q1DFKwGwM8",
        "outputId": "e27de4fd-4845-4767-d1d8-b2785f54e1cc"
      },
      "execution_count": null,
      "outputs": [
        {
          "output_type": "execute_result",
          "data": {
            "text/plain": [
              "torch.Size([1, 2, 3, 3])"
            ]
          },
          "metadata": {},
          "execution_count": 19
        }
      ]
    },
    {
      "cell_type": "code",
      "source": [
        "TENSOR.ndim"
      ],
      "metadata": {
        "colab": {
          "base_uri": "https://localhost:8080/"
        },
        "id": "DcT0JOIZJ1MB",
        "outputId": "b2615f09-d9ed-4bca-b9e0-eff5db63e5f6"
      },
      "execution_count": null,
      "outputs": [
        {
          "output_type": "execute_result",
          "data": {
            "text/plain": [
              "4"
            ]
          },
          "metadata": {},
          "execution_count": 20
        }
      ]
    },
    {
      "cell_type": "markdown",
      "source": [
        "### Random Tensors"
      ],
      "metadata": {
        "id": "yS-AGEs6Iqgf"
      }
    },
    {
      "cell_type": "code",
      "source": [
        "random_tens =torch.rand(5,3,2)\n",
        "random_tens"
      ],
      "metadata": {
        "colab": {
          "base_uri": "https://localhost:8080/"
        },
        "id": "gqP44__1Iw58",
        "outputId": "d663e439-334c-436b-c546-aa05c441169a"
      },
      "execution_count": null,
      "outputs": [
        {
          "output_type": "execute_result",
          "data": {
            "text/plain": [
              "tensor([[[0.8957, 0.7543],\n",
              "         [0.8452, 0.9402],\n",
              "         [0.3508, 0.9742]],\n",
              "\n",
              "        [[0.1357, 0.0708],\n",
              "         [0.8789, 0.2145],\n",
              "         [0.6694, 0.1716]],\n",
              "\n",
              "        [[0.9840, 0.2027],\n",
              "         [0.1130, 0.4929],\n",
              "         [0.4349, 0.2729]],\n",
              "\n",
              "        [[0.6302, 0.8972],\n",
              "         [0.3335, 0.0330],\n",
              "         [0.6807, 0.0494]],\n",
              "\n",
              "        [[0.8506, 0.8148],\n",
              "         [0.2679, 0.3730],\n",
              "         [0.0322, 0.9371]]])"
            ]
          },
          "metadata": {},
          "execution_count": 22
        }
      ]
    },
    {
      "cell_type": "code",
      "source": [
        "## Create a random tensor with similar shape to an image tensor\n",
        "\n",
        "random_image_size_tensor = torch.rand(size=(3,244,244)) # color channel ,h,w\n",
        "random_image_size_tensor.shape ,random_image_size_tensor.ndim"
      ],
      "metadata": {
        "colab": {
          "base_uri": "https://localhost:8080/"
        },
        "id": "9ExVzfdzK_rO",
        "outputId": "c3ee3f2d-1325-4317-be6c-6120f0313cd0"
      },
      "execution_count": null,
      "outputs": [
        {
          "output_type": "execute_result",
          "data": {
            "text/plain": [
              "(torch.Size([3, 244, 244]), 3)"
            ]
          },
          "metadata": {},
          "execution_count": 24
        }
      ]
    },
    {
      "cell_type": "markdown",
      "source": [
        "### Zeros and Ones\n"
      ],
      "metadata": {
        "id": "rMtaHNvDiYyS"
      }
    },
    {
      "cell_type": "code",
      "source": [
        "zeros = torch.zeros(3,2)\n",
        "ones = torch.ones(3,2)\n",
        "zeros,ones"
      ],
      "metadata": {
        "colab": {
          "base_uri": "https://localhost:8080/"
        },
        "id": "uq7f7USqifBV",
        "outputId": "58ec2127-9471-41d2-afad-d5e213a885f1"
      },
      "execution_count": null,
      "outputs": [
        {
          "output_type": "execute_result",
          "data": {
            "text/plain": [
              "(tensor([[0., 0.],\n",
              "         [0., 0.],\n",
              "         [0., 0.]]),\n",
              " tensor([[1., 1.],\n",
              "         [1., 1.],\n",
              "         [1., 1.]]))"
            ]
          },
          "metadata": {},
          "execution_count": 12
        }
      ]
    },
    {
      "cell_type": "code",
      "source": [
        "ones.dtype"
      ],
      "metadata": {
        "colab": {
          "base_uri": "https://localhost:8080/"
        },
        "id": "xJwWwWLhjP5o",
        "outputId": "81ef4df2-5220-4657-8e83-e52d8425e2ef"
      },
      "execution_count": null,
      "outputs": [
        {
          "output_type": "execute_result",
          "data": {
            "text/plain": [
              "torch.float32"
            ]
          },
          "metadata": {},
          "execution_count": 13
        }
      ]
    },
    {
      "cell_type": "markdown",
      "source": [
        "### Range of Tensors and Tensors-like"
      ],
      "metadata": {
        "id": "5_c5c3FzjhXL"
      }
    },
    {
      "cell_type": "code",
      "source": [
        "torch.arange(0,10)"
      ],
      "metadata": {
        "colab": {
          "base_uri": "https://localhost:8080/"
        },
        "id": "EOsT3dFYkEGM",
        "outputId": "6f340577-59c7-4556-a40a-8cd00e41cf1f"
      },
      "execution_count": null,
      "outputs": [
        {
          "output_type": "execute_result",
          "data": {
            "text/plain": [
              "tensor([0, 1, 2, 3, 4, 5, 6, 7, 8, 9])"
            ]
          },
          "metadata": {},
          "execution_count": 15
        }
      ]
    },
    {
      "cell_type": "code",
      "source": [
        "one_to_ten=torch.arange(0,10,2)\n",
        "one_plus=torch.ones_like(input=one_to_ten  )\n",
        "one_to_ten, one_plus"
      ],
      "metadata": {
        "colab": {
          "base_uri": "https://localhost:8080/"
        },
        "id": "5qXnZWYKkaSf",
        "outputId": "08cde43e-797b-43e5-aead-4c54eb707eea"
      },
      "execution_count": null,
      "outputs": [
        {
          "output_type": "execute_result",
          "data": {
            "text/plain": [
              "(tensor([0, 2, 4, 6, 8]), tensor([1, 1, 1, 1, 1]))"
            ]
          },
          "metadata": {},
          "execution_count": 18
        }
      ]
    },
    {
      "cell_type": "markdown",
      "source": [
        "### Tensor datatypes"
      ],
      "metadata": {
        "id": "UdXEPt7E0OYg"
      }
    },
    {
      "cell_type": "code",
      "source": [
        "float_32_tensor = torch.tensor([3.0,4.0,3.0], dtype=None ,\n",
        "                               device=None,\n",
        "                               requires_grad=False)\n",
        "float_32_tensor"
      ],
      "metadata": {
        "colab": {
          "base_uri": "https://localhost:8080/"
        },
        "id": "FWiU5cYuzrfT",
        "outputId": "d8b8fc09-4aff-4322-e156-e736fc2bee30"
      },
      "execution_count": null,
      "outputs": [
        {
          "output_type": "execute_result",
          "data": {
            "text/plain": [
              "tensor([3., 4., 3.])"
            ]
          },
          "metadata": {},
          "execution_count": 25
        }
      ]
    },
    {
      "cell_type": "code",
      "source": [
        "float_16_tensor = float_32_tensor.type(torch.half)\n",
        "float_16_tensor, float_16_tensor.dtype"
      ],
      "metadata": {
        "colab": {
          "base_uri": "https://localhost:8080/"
        },
        "id": "0XuFsR_Y3j--",
        "outputId": "3a1cb6ba-b791-40b2-ab3f-a799f139d521"
      },
      "execution_count": null,
      "outputs": [
        {
          "output_type": "execute_result",
          "data": {
            "text/plain": [
              "(tensor([3., 4., 3.], dtype=torch.float16), torch.float16)"
            ]
          },
          "metadata": {},
          "execution_count": 21
        }
      ]
    },
    {
      "cell_type": "code",
      "source": [
        "float_16_tensor * float_32_tensor"
      ],
      "metadata": {
        "colab": {
          "base_uri": "https://localhost:8080/"
        },
        "id": "LaOc7yOp37oj",
        "outputId": "af9153bd-092a-4863-b938-575360478e1c"
      },
      "execution_count": null,
      "outputs": [
        {
          "output_type": "execute_result",
          "data": {
            "text/plain": [
              "tensor([ 9., 16.,  9.])"
            ]
          },
          "metadata": {},
          "execution_count": 24
        }
      ]
    },
    {
      "cell_type": "code",
      "source": [
        "int_32_tensor = torch.tensor([3,4,5], dtype=torch.long)\n",
        "int_32_tensor"
      ],
      "metadata": {
        "colab": {
          "base_uri": "https://localhost:8080/"
        },
        "id": "zsXbJr5b4pC0",
        "outputId": "99909812-7d59-4a7b-c2fe-abbad09878d6"
      },
      "execution_count": null,
      "outputs": [
        {
          "output_type": "execute_result",
          "data": {
            "text/plain": [
              "tensor([3, 4, 5])"
            ]
          },
          "metadata": {},
          "execution_count": 26
        }
      ]
    },
    {
      "cell_type": "markdown",
      "source": [
        "tensor.shape\n",
        "\n",
        "tensor.device\n",
        "\n",
        "tensor.dtype"
      ],
      "metadata": {
        "id": "D0L9s5Y75tnX"
      }
    },
    {
      "cell_type": "markdown",
      "source": [
        "### Manipulating Tensors"
      ],
      "metadata": {
        "id": "KWO_5s_8y1xR"
      }
    },
    {
      "cell_type": "code",
      "source": [
        "# Addition  can be torch.add(a,b)\n",
        "tensor = torch.tensor([2,2,3])\n",
        "tensor + 10"
      ],
      "metadata": {
        "colab": {
          "base_uri": "https://localhost:8080/"
        },
        "id": "LB-c2RGd6G92",
        "outputId": "cf050701-4ba2-444a-8a10-c02b22122134"
      },
      "execution_count": 2,
      "outputs": [
        {
          "output_type": "execute_result",
          "data": {
            "text/plain": [
              "tensor([12, 12, 13])"
            ]
          },
          "metadata": {},
          "execution_count": 2
        }
      ]
    },
    {
      "cell_type": "code",
      "source": [
        "#  myltiply tensor can be torch.mul(a,b)\n",
        "tensor * 10, torch.mul(tensor,10)"
      ],
      "metadata": {
        "colab": {
          "base_uri": "https://localhost:8080/"
        },
        "id": "e1sjhzug7WF_",
        "outputId": "56f0fc96-cc87-4239-c17b-1ab9df4bd816"
      },
      "execution_count": 6,
      "outputs": [
        {
          "output_type": "execute_result",
          "data": {
            "text/plain": [
              "(tensor([20, 20, 30]), tensor([20, 20, 30]))"
            ]
          },
          "metadata": {},
          "execution_count": 6
        }
      ]
    },
    {
      "cell_type": "markdown",
      "source": [
        "### Matrix multiplication\n",
        "two main ways of  matrix multiplication in neural network  and deep learning\n",
        "1. Element wise multiplication\n",
        "2. Matrix multiplication   (Dot product)\n",
        "\n",
        "2 rules\n",
        "1 inner dimension should match\n",
        "\n",
        " - (3,2) @ (2,3)\n",
        "\n",
        "2 resulting is same outer shape\n",
        "\n",
        "  - (3,3)\n"
      ],
      "metadata": {
        "id": "fEVPKCuH8ZgF"
      }
    },
    {
      "cell_type": "code",
      "source": [
        "# element wise"
      ],
      "metadata": {
        "colab": {
          "base_uri": "https://localhost:8080/"
        },
        "id": "xRq5_wnO_EmW",
        "outputId": "9e2175c5-2215-4a28-eefc-f0cbeb2e21b7"
      },
      "execution_count": 7,
      "outputs": [
        {
          "output_type": "execute_result",
          "data": {
            "text/plain": [
              "tensor([4, 4, 9])"
            ]
          },
          "metadata": {},
          "execution_count": 7
        }
      ]
    },
    {
      "cell_type": "code",
      "source": [
        "#matrix torch.mm(a,b)\n",
        "torch.matmul(tensor,tensor)"
      ],
      "metadata": {
        "colab": {
          "base_uri": "https://localhost:8080/"
        },
        "id": "S1eUPGbb_mxe",
        "outputId": "607afa9a-ab47-46d3-925f-f52497439264"
      },
      "execution_count": 8,
      "outputs": [
        {
          "output_type": "execute_result",
          "data": {
            "text/plain": [
              "tensor(17)"
            ]
          },
          "metadata": {},
          "execution_count": 8
        }
      ]
    },
    {
      "cell_type": "markdown",
      "source": [
        "to fix tensor shape error we can **transpose** (.T) to switch the dimensions"
      ],
      "metadata": {
        "id": "5B_1pB0HEAqS"
      }
    },
    {
      "cell_type": "code",
      "source": [
        "tensor =torch.rand(3,2)\n",
        "tensor.T"
      ],
      "metadata": {
        "colab": {
          "base_uri": "https://localhost:8080/"
        },
        "id": "dnDfmz42EYPq",
        "outputId": "48016d3b-e749-40a2-d7d5-00577317323d"
      },
      "execution_count": 11,
      "outputs": [
        {
          "output_type": "execute_result",
          "data": {
            "text/plain": [
              "tensor([[0.1321, 0.3272, 0.8749],\n",
              "        [0.2417, 0.1194, 0.0092]])"
            ]
          },
          "metadata": {},
          "execution_count": 11
        }
      ]
    },
    {
      "cell_type": "markdown",
      "source": [
        "## Finding min,max,mean, sum, etc (tensor aggregation)"
      ],
      "metadata": {
        "id": "n5V215gpIl_G"
      }
    },
    {
      "cell_type": "code",
      "source": [
        "# tensor.mean need float type\n",
        "x = torch.arange(0,100,10).type(torch.float32)\n",
        "x.min(), torch.min(x),x.max(),x.mean(), torch.mean(x),x.sum(),x\n"
      ],
      "metadata": {
        "colab": {
          "base_uri": "https://localhost:8080/"
        },
        "id": "HeSF_qDXJt7-",
        "outputId": "ffedf7df-684d-4649-eb2a-71ea16607fcc"
      },
      "execution_count": 2,
      "outputs": [
        {
          "output_type": "execute_result",
          "data": {
            "text/plain": [
              "(tensor(0.),\n",
              " tensor(0.),\n",
              " tensor(90.),\n",
              " tensor(45.),\n",
              " tensor(45.),\n",
              " tensor(450.),\n",
              " tensor([ 0., 10., 20., 30., 40., 50., 60., 70., 80., 90.]))"
            ]
          },
          "metadata": {},
          "execution_count": 2
        }
      ]
    },
    {
      "cell_type": "code",
      "source": [
        "# the index of min max\n",
        "x.argmax(), x.argmin(), x.argsort()"
      ],
      "metadata": {
        "colab": {
          "base_uri": "https://localhost:8080/"
        },
        "id": "u3ftXsk7K1aL",
        "outputId": "da096500-8ebd-4956-981d-2574f2e02149"
      },
      "execution_count": 3,
      "outputs": [
        {
          "output_type": "execute_result",
          "data": {
            "text/plain": [
              "(tensor(9), tensor(0), tensor([0, 1, 2, 3, 4, 5, 6, 7, 8, 9]))"
            ]
          },
          "metadata": {},
          "execution_count": 3
        }
      ]
    },
    {
      "cell_type": "markdown",
      "source": [
        " ### Reshaping, stacking , squeezing and unsqueezing tensor\n",
        "  - Reshaping - reshapes an input tensor to a defined shape\n",
        "  - view- return a view of an input tensor of certain shape but keep the same memory as the first\n",
        "  - stacking - combine multiple tensors on top of each other (concatination) v stack , hstack\n",
        "  - squeezing - removes one dimensions from tenosr\n",
        "  - unsqueezing- add a 1 dimension to target tensor\n",
        "  - Permute- return a view of the input with dimesions permuted (swapped) in certain way"
      ],
      "metadata": {
        "id": "J4vijMjbM0YW"
      }
    },
    {
      "cell_type": "code",
      "source": [
        "X= torch.arange(0.,10.)\n",
        "X_reshaped = X.reshape(5,2)\n",
        "X_reshaped, X\n",
        "\n"
      ],
      "metadata": {
        "colab": {
          "base_uri": "https://localhost:8080/"
        },
        "id": "q7TDPRK5dGND",
        "outputId": "7f672784-8095-4f08-d1f5-33217bad15f1"
      },
      "execution_count": 30,
      "outputs": [
        {
          "output_type": "execute_result",
          "data": {
            "text/plain": [
              "(tensor([[0., 1.],\n",
              "         [2., 3.],\n",
              "         [4., 5.],\n",
              "         [6., 7.],\n",
              "         [8., 9.]]),\n",
              " tensor([0., 1., 2., 3., 4., 5., 6., 7., 8., 9.]))"
            ]
          },
          "metadata": {},
          "execution_count": 30
        }
      ]
    },
    {
      "cell_type": "code",
      "source": [
        "z = X.view(1,10)\n",
        "z[:,2]=5\n",
        "z, z.shape, X"
      ],
      "metadata": {
        "colab": {
          "base_uri": "https://localhost:8080/"
        },
        "id": "V5CzUWAcewJe",
        "outputId": "d4d1ef3b-cb07-424c-e907-81f9e62fe11f"
      },
      "execution_count": 33,
      "outputs": [
        {
          "output_type": "execute_result",
          "data": {
            "text/plain": [
              "(tensor([[0., 1., 5., 3., 4., 5., 6., 7., 8., 9.]]),\n",
              " torch.Size([1, 10]),\n",
              " tensor([0., 1., 5., 3., 4., 5., 6., 7., 8., 9.]))"
            ]
          },
          "metadata": {},
          "execution_count": 33
        }
      ]
    },
    {
      "cell_type": "code",
      "source": [
        "x_stacked = torch.stack([x,x,x,x], dim=0)\n",
        "x_hstacked = torch.hstack([x,x,x,x] )\n",
        "x_stacked,x_hstacked.shape"
      ],
      "metadata": {
        "colab": {
          "base_uri": "https://localhost:8080/"
        },
        "id": "7WzOBxrOfvSP",
        "outputId": "594414e5-d10b-40a2-e0f6-986ac6beee02"
      },
      "execution_count": 21,
      "outputs": [
        {
          "output_type": "execute_result",
          "data": {
            "text/plain": [
              "(tensor([[ 0., 10., 20., 30., 40., 50., 60., 70., 80., 90.],\n",
              "         [ 0., 10., 20., 30., 40., 50., 60., 70., 80., 90.],\n",
              "         [ 0., 10., 20., 30., 40., 50., 60., 70., 80., 90.],\n",
              "         [ 0., 10., 20., 30., 40., 50., 60., 70., 80., 90.]]),\n",
              " torch.Size([40]))"
            ]
          },
          "metadata": {},
          "execution_count": 21
        }
      ]
    },
    {
      "cell_type": "code",
      "source": [
        "x_squeezed = X_reshaped.squeeze()\n",
        "x_unsqueezed = x_squeezed.unsqueeze(dim=0)\n",
        "x_squeezed, x_squeezed.shape"
      ],
      "metadata": {
        "colab": {
          "base_uri": "https://localhost:8080/"
        },
        "id": "4R-0a9FwheNw",
        "outputId": "cc301b38-531c-4011-df09-2b843261d5c4"
      },
      "execution_count": 22,
      "outputs": [
        {
          "output_type": "execute_result",
          "data": {
            "text/plain": [
              "(tensor([1., 2., 3., 4., 5., 6., 7., 8., 9.]), torch.Size([9]))"
            ]
          },
          "metadata": {},
          "execution_count": 22
        }
      ]
    },
    {
      "cell_type": "code",
      "source": [
        "y=torch.rand(2,5,6)\n",
        "x_permuted = torch.permute(y,(1,0,2))\n",
        "x_permuted, x_permuted.shape"
      ],
      "metadata": {
        "colab": {
          "base_uri": "https://localhost:8080/"
        },
        "id": "bhDZkgO3iBcj",
        "outputId": "427720f0-1827-48a2-ae63-2f5731cc77d3"
      },
      "execution_count": 26,
      "outputs": [
        {
          "output_type": "execute_result",
          "data": {
            "text/plain": [
              "(tensor([[[0.4623, 0.6892, 0.6438, 0.0221, 0.8487, 0.0819],\n",
              "          [0.1751, 0.7423, 0.7370, 0.5795, 0.6542, 0.3716]],\n",
              " \n",
              "         [[0.0160, 0.3868, 0.6167, 0.3593, 0.8184, 0.8022],\n",
              "          [0.0671, 0.2845, 0.9138, 0.1435, 0.1882, 0.9217]],\n",
              " \n",
              "         [[0.6647, 0.7604, 0.0459, 0.9302, 0.3390, 0.4482],\n",
              "          [0.6480, 0.3040, 0.1677, 0.4233, 0.5728, 0.2323]],\n",
              " \n",
              "         [[0.5171, 0.8877, 0.7934, 0.4369, 0.5179, 0.4663],\n",
              "          [0.0652, 0.2111, 0.3652, 0.3409, 0.6808, 0.3689]],\n",
              " \n",
              "         [[0.4407, 0.1518, 0.6969, 0.6070, 0.4981, 0.7027],\n",
              "          [0.6778, 0.4168, 0.8054, 0.1332, 0.6611, 0.5824]]]),\n",
              " torch.Size([5, 2, 6]))"
            ]
          },
          "metadata": {},
          "execution_count": 26
        }
      ]
    },
    {
      "cell_type": "code",
      "source": [
        "x_original= torch.rand(244,244,3)\n",
        "x_permuted = x_original.permute(2,0,1)\n",
        "x_permuted.shape"
      ],
      "metadata": {
        "colab": {
          "base_uri": "https://localhost:8080/"
        },
        "id": "WHPLh6TGkujO",
        "outputId": "0613defc-1933-4ea4-e9c9-7b5618e6bdb3"
      },
      "execution_count": 34,
      "outputs": [
        {
          "output_type": "execute_result",
          "data": {
            "text/plain": [
              "torch.Size([3, 244, 244])"
            ]
          },
          "metadata": {},
          "execution_count": 34
        }
      ]
    },
    {
      "cell_type": "markdown",
      "source": [
        "### Indexing\n",
        "indexing with PyTorch is similar to numpy"
      ],
      "metadata": {
        "id": "wENS0ltt3ior"
      }
    },
    {
      "cell_type": "code",
      "source": [
        "x= torch.arange(1,10).reshape(1,3,3)\n",
        "x= x.squeeze()\n",
        "x[2][2],x[0]"
      ],
      "metadata": {
        "colab": {
          "base_uri": "https://localhost:8080/"
        },
        "id": "C1mjdyKU30xn",
        "outputId": "fe405021-187e-44fb-ae07-6ebde4491f30"
      },
      "execution_count": 47,
      "outputs": [
        {
          "output_type": "execute_result",
          "data": {
            "text/plain": [
              "(tensor(9), tensor([1, 2, 3]))"
            ]
          },
          "metadata": {},
          "execution_count": 47
        }
      ]
    },
    {
      "cell_type": "markdown",
      "source": [
        " ## Pytorch tensors and NumPy\n",
        " NumPy is scientific  Python numerical computing library\n",
        "\n",
        "torch.from_numpy(ndarray)\n",
        "\n",
        "torch.Tensor.numpy()"
      ],
      "metadata": {
        "id": "559YIY9w_7Rl"
      }
    },
    {
      "cell_type": "code",
      "source": [
        "array = np.arange(1.0,8.0)\n",
        "tensor = torch.from_numpy(array).type(torch.float32)\n",
        "array, tensor"
      ],
      "metadata": {
        "colab": {
          "base_uri": "https://localhost:8080/"
        },
        "id": "juLEyp-eAv-U",
        "outputId": "f534ac0b-cf81-4f09-93a4-14bf38615d17"
      },
      "execution_count": 52,
      "outputs": [
        {
          "output_type": "execute_result",
          "data": {
            "text/plain": [
              "(array([1., 2., 3., 4., 5., 6., 7.]), tensor([1., 2., 3., 4., 5., 6., 7.]))"
            ]
          },
          "metadata": {},
          "execution_count": 52
        }
      ]
    },
    {
      "cell_type": "code",
      "source": [
        "tensor = torch.ones(7)\n",
        "numpy_tensor= tensor.numpy()\n",
        "tensor = tensor +1\n",
        "tensor, numpy_tensor"
      ],
      "metadata": {
        "colab": {
          "base_uri": "https://localhost:8080/"
        },
        "id": "S7YSE4N3D_NL",
        "outputId": "57abf165-e514-4cd1-c3f0-661514d25f71"
      },
      "execution_count": 57,
      "outputs": [
        {
          "output_type": "execute_result",
          "data": {
            "text/plain": [
              "(tensor([2., 2., 2., 2., 2., 2., 2.]),\n",
              " array([1., 1., 1., 1., 1., 1., 1.], dtype=float32))"
            ]
          },
          "metadata": {},
          "execution_count": 57
        }
      ]
    },
    {
      "cell_type": "markdown",
      "source": [
        " ## Reproduciblity (trying to take random out of random)\n",
        " neural network learns:\n",
        "\n",
        " start with rand np.number -> tensor operations -> update the rand number and make them better representation of the data -> again -> AggregationType\n",
        "\n",
        "to reduce randomness in neural network and pytorch \" random seed\"\n",
        "\n",
        "random seed does flavor the randomness"
      ],
      "metadata": {
        "id": "FbcKwOYsFVaS"
      }
    },
    {
      "cell_type": "code",
      "source": [
        "random_tensor_A = torch.rand(3,4)\n",
        "random_tensor_B = torch.rand(3,4)\n",
        "print(random_tensor_A)\n",
        "print(random_tensor_B)\n",
        "print(random_tensor_A == random_tensor_B)"
      ],
      "metadata": {
        "colab": {
          "base_uri": "https://localhost:8080/"
        },
        "id": "RTZNpoWZGTOn",
        "outputId": "22508ebe-ba89-43ea-bd73-5096f88b1c5e"
      },
      "execution_count": 58,
      "outputs": [
        {
          "output_type": "stream",
          "name": "stdout",
          "text": [
            "tensor([[0.3426, 0.8062, 0.3270, 0.6138],\n",
            "        [0.2152, 0.3771, 0.4817, 0.7042],\n",
            "        [0.5852, 0.3067, 0.6263, 0.6733]])\n",
            "tensor([[0.1685, 0.3742, 0.7811, 0.7037],\n",
            "        [0.9888, 0.0925, 0.4008, 0.5933],\n",
            "        [0.3764, 0.4629, 0.1089, 0.9861]])\n",
            "tensor([[False, False, False, False],\n",
            "        [False, False, False, False],\n",
            "        [False, False, False, False]])\n"
          ]
        }
      ]
    },
    {
      "cell_type": "code",
      "source": [
        "RANDOME_SEED = 42\n",
        "torch.manual_seed(RANDOME_SEED)\n",
        "random_tens_a = torch.rand(3,4)\n",
        "torch.manual_seed(RANDOME_SEED)\n",
        "random_tens_b = torch.rand(3,4)\n",
        "print(random_tens_a)\n",
        "print(random_tens_b)\n",
        "print(random_tens_a == random_tens_b)\n",
        "\n"
      ],
      "metadata": {
        "colab": {
          "base_uri": "https://localhost:8080/"
        },
        "id": "XOfoWBRIGyf-",
        "outputId": "6fdcbbc2-cd0b-43e7-c1d7-0c124a0f81ee"
      },
      "execution_count": 2,
      "outputs": [
        {
          "output_type": "stream",
          "name": "stdout",
          "text": [
            "tensor([[0.8823, 0.9150, 0.3829, 0.9593],\n",
            "        [0.3904, 0.6009, 0.2566, 0.7936],\n",
            "        [0.9408, 0.1332, 0.9346, 0.5936]])\n",
            "tensor([[0.8823, 0.9150, 0.3829, 0.9593],\n",
            "        [0.3904, 0.6009, 0.2566, 0.7936],\n",
            "        [0.9408, 0.1332, 0.9346, 0.5936]])\n",
            "tensor([[True, True, True, True],\n",
            "        [True, True, True, True],\n",
            "        [True, True, True, True]])\n"
          ]
        }
      ]
    },
    {
      "cell_type": "markdown",
      "source": [
        "### Running tensors and pytorch  object on the GPUs"
      ],
      "metadata": {
        "id": "y0iTzD92Kg2e"
      }
    },
    {
      "cell_type": "code",
      "source": [
        "!nvidia-smi"
      ],
      "metadata": {
        "colab": {
          "base_uri": "https://localhost:8080/"
        },
        "id": "uEQBUU4qLJuY",
        "outputId": "3000ba84-b5fc-47a9-aaa0-5b26b28d0b9d"
      },
      "execution_count": 3,
      "outputs": [
        {
          "output_type": "stream",
          "name": "stdout",
          "text": [
            "Fri Oct  3 17:44:15 2025       \n",
            "+-----------------------------------------------------------------------------------------+\n",
            "| NVIDIA-SMI 550.54.15              Driver Version: 550.54.15      CUDA Version: 12.4     |\n",
            "|-----------------------------------------+------------------------+----------------------+\n",
            "| GPU  Name                 Persistence-M | Bus-Id          Disp.A | Volatile Uncorr. ECC |\n",
            "| Fan  Temp   Perf          Pwr:Usage/Cap |           Memory-Usage | GPU-Util  Compute M. |\n",
            "|                                         |                        |               MIG M. |\n",
            "|=========================================+========================+======================|\n",
            "|   0  Tesla T4                       Off |   00000000:00:04.0 Off |                    0 |\n",
            "| N/A   50C    P8              9W /   70W |       0MiB /  15360MiB |      0%      Default |\n",
            "|                                         |                        |                  N/A |\n",
            "+-----------------------------------------+------------------------+----------------------+\n",
            "                                                                                         \n",
            "+-----------------------------------------------------------------------------------------+\n",
            "| Processes:                                                                              |\n",
            "|  GPU   GI   CI        PID   Type   Process name                              GPU Memory |\n",
            "|        ID   ID                                                               Usage      |\n",
            "|=========================================================================================|\n",
            "|  No running processes found                                                             |\n",
            "+-----------------------------------------------------------------------------------------+\n"
          ]
        }
      ]
    },
    {
      "cell_type": "markdown",
      "source": [
        "## checking GPU acces with pyTorch"
      ],
      "metadata": {
        "id": "FNai3ygGLOjX"
      }
    },
    {
      "cell_type": "code",
      "source": [
        "torch.cuda.is_available()"
      ],
      "metadata": {
        "colab": {
          "base_uri": "https://localhost:8080/"
        },
        "id": "NorfzFhKLcYO",
        "outputId": "9c0139be-d6e1-4c51-a50f-a33b62de8989"
      },
      "execution_count": 4,
      "outputs": [
        {
          "output_type": "execute_result",
          "data": {
            "text/plain": [
              "True"
            ]
          },
          "metadata": {},
          "execution_count": 4
        }
      ]
    },
    {
      "cell_type": "code",
      "source": [
        "# setup device agnostic code\n",
        "device = \"cuda\" if torch.cuda.is_available() else \"cpu\"\n",
        "device"
      ],
      "metadata": {
        "colab": {
          "base_uri": "https://localhost:8080/",
          "height": 35
        },
        "id": "zVUU6Pfl8f2I",
        "outputId": "1bbcc4ba-fe16-48c4-b8d7-646e87321d44"
      },
      "execution_count": 5,
      "outputs": [
        {
          "output_type": "execute_result",
          "data": {
            "text/plain": [
              "'cuda'"
            ],
            "application/vnd.google.colaboratory.intrinsic+json": {
              "type": "string"
            }
          },
          "metadata": {},
          "execution_count": 5
        }
      ]
    },
    {
      "cell_type": "code",
      "source": [
        "torch.cuda.device_count()"
      ],
      "metadata": {
        "colab": {
          "base_uri": "https://localhost:8080/"
        },
        "id": "IdDr25sh9Fto",
        "outputId": "2e3e4d55-d77e-4a5e-a40e-9fbd051454f9"
      },
      "execution_count": 6,
      "outputs": [
        {
          "output_type": "execute_result",
          "data": {
            "text/plain": [
              "1"
            ]
          },
          "metadata": {},
          "execution_count": 6
        }
      ]
    },
    {
      "cell_type": "markdown",
      "source": [
        "### Putting tensors(and models) on the Gpu"
      ],
      "metadata": {
        "id": "1EM8TGTD9tsP"
      }
    },
    {
      "cell_type": "code",
      "source": [
        "tensor = torch.tensor([1,2,3])\n",
        "\n",
        "print(tensor, tensor.device)"
      ],
      "metadata": {
        "colab": {
          "base_uri": "https://localhost:8080/"
        },
        "id": "EpJJkmqx90dz",
        "outputId": "07829789-229a-46bb-9008-dbdfa80a9644"
      },
      "execution_count": 7,
      "outputs": [
        {
          "output_type": "stream",
          "name": "stdout",
          "text": [
            "tensor([1, 2, 3]) cpu\n"
          ]
        }
      ]
    },
    {
      "cell_type": "code",
      "source": [
        "tensor_on_gpu = tensor.to(device)\n",
        "tensor_on_gpu"
      ],
      "metadata": {
        "colab": {
          "base_uri": "https://localhost:8080/"
        },
        "id": "PP9-zEpJ-hY6",
        "outputId": "d0fd80a0-cd46-4dff-d42b-920e9ce5c5a1"
      },
      "execution_count": 8,
      "outputs": [
        {
          "output_type": "execute_result",
          "data": {
            "text/plain": [
              "tensor([1, 2, 3], device='cuda:0')"
            ]
          },
          "metadata": {},
          "execution_count": 8
        }
      ]
    },
    {
      "cell_type": "markdown",
      "source": [
        "### Moving tensor back to CPU"
      ],
      "metadata": {
        "id": "mDo9zSIREumc"
      }
    },
    {
      "cell_type": "code",
      "source": [
        "# NumPy on works on cpu\n",
        "\n",
        "tensor_on_cpu = tensor_on_gpu.cpu().numpy()\n",
        "tensor_on_cpu"
      ],
      "metadata": {
        "colab": {
          "base_uri": "https://localhost:8080/"
        },
        "id": "2GtOO0iGFNyx",
        "outputId": "3aae312d-82d7-4bc8-ecfe-d13459f4820a"
      },
      "execution_count": 10,
      "outputs": [
        {
          "output_type": "execute_result",
          "data": {
            "text/plain": [
              "array([1, 2, 3])"
            ]
          },
          "metadata": {},
          "execution_count": 10
        }
      ]
    }
  ]
}