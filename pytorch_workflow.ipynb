{
  "nbformat": 4,
  "nbformat_minor": 0,
  "metadata": {
    "colab": {
      "provenance": [],
      "authorship_tag": "ABX9TyOZ/33i5F5QjKyjPUydHIcR",
      "include_colab_link": true
    },
    "kernelspec": {
      "name": "python3",
      "display_name": "Python 3"
    },
    "language_info": {
      "name": "python"
    }
  },
  "cells": [
    {
      "cell_type": "markdown",
      "metadata": {
        "id": "view-in-github",
        "colab_type": "text"
      },
      "source": [
        "<a href=\"https://colab.research.google.com/github/solielmaf/pytorch/blob/main/pytorch_workflow.ipynb\" target=\"_parent\"><img src=\"https://colab.research.google.com/assets/colab-badge.svg\" alt=\"Open In Colab\"/></a>"
      ]
    },
    {
      "cell_type": "code",
      "execution_count": 2,
      "metadata": {
        "id": "J7WKaUPVM5gf"
      },
      "outputs": [],
      "source": [
        "import torch\n",
        "from torch import nn # nn conatins all of pytorch's building blocks for neural network\n",
        "import matplotlib.pyplot as plt"
      ]
    },
    {
      "cell_type": "markdown",
      "source": [
        "\n",
        " ## 1. Data(preparing and loading)\n",
        "\n",
        "\n",
        "  data can be almost anything in machine learning\n",
        "\n",
        "* Excel speadsheet\n",
        "* Images\n",
        "* videos\n",
        "* Audio\n",
        "* DNA\n",
        "* Text\n",
        "\n",
        "machine learning has two parts:\n",
        "\n",
        "1. Get data into numerical representation\n",
        "2. Build a model to learn patterns in that numerical representation\n",
        "\n",
        "We'll use linear regression formula to make a straight line with known parameters"
      ],
      "metadata": {
        "id": "b1DUCtpuPH6A"
      }
    },
    {
      "cell_type": "code",
      "source": [
        "# create *known* parameters\n",
        "weight = 0.7\n",
        "bias = 0.3\n",
        "\n",
        "start = 0\n",
        "end = 1\n",
        "step= 0.02\n",
        "X = torch.arange(start,end, step).unsqueeze(dim=1)\n",
        "Y = weight * X + bias\n",
        "\n",
        "X[:10], Y[:10]"
      ],
      "metadata": {
        "colab": {
          "base_uri": "https://localhost:8080/"
        },
        "id": "ibtZSiGFQws9",
        "outputId": "99d1e4e0-f0b2-4ddf-c5d1-e54d19cdedbe"
      },
      "execution_count": 8,
      "outputs": [
        {
          "output_type": "execute_result",
          "data": {
            "text/plain": [
              "(tensor([[0.0000],\n",
              "         [0.0200],\n",
              "         [0.0400],\n",
              "         [0.0600],\n",
              "         [0.0800],\n",
              "         [0.1000],\n",
              "         [0.1200],\n",
              "         [0.1400],\n",
              "         [0.1600],\n",
              "         [0.1800]]),\n",
              " tensor([[0.3000],\n",
              "         [0.3140],\n",
              "         [0.3280],\n",
              "         [0.3420],\n",
              "         [0.3560],\n",
              "         [0.3700],\n",
              "         [0.3840],\n",
              "         [0.3980],\n",
              "         [0.4120],\n",
              "         [0.4260]]))"
            ]
          },
          "metadata": {},
          "execution_count": 8
        }
      ]
    },
    {
      "cell_type": "markdown",
      "source": [
        "### Spliting data into training and test sets\n",
        "\n",
        "Create training and test set of data\n"
      ],
      "metadata": {
        "id": "7Ivkcn_RSo4I"
      }
    },
    {
      "cell_type": "code",
      "source": [
        "# Create a train/test split\n",
        "train_split = int(0.8 * len(X))\n",
        "X_train, Y_train = X[:train_split],Y[:train_split]\n",
        "X_test ,Y_test = X[train_split:],Y[train_split:]\n",
        "\n",
        "len(X_train), len(Y_train), len(X_test), len(Y_test)"
      ],
      "metadata": {
        "colab": {
          "base_uri": "https://localhost:8080/"
        },
        "id": "eh-DtJVwTfS8",
        "outputId": "a3c8a96d-85d0-4599-8a88-b7fa82acdf72"
      },
      "execution_count": 11,
      "outputs": [
        {
          "output_type": "execute_result",
          "data": {
            "text/plain": [
              "(40, 40, 10, 10)"
            ]
          },
          "metadata": {},
          "execution_count": 11
        }
      ]
    }
  ]
}