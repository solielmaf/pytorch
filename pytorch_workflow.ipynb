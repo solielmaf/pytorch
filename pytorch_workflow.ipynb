{
  "nbformat": 4,
  "nbformat_minor": 0,
  "metadata": {
    "colab": {
      "provenance": [],
      "authorship_tag": "ABX9TyNoqWWHCaYBuVfm5lLQujPP",
      "include_colab_link": true
    },
    "kernelspec": {
      "name": "python3",
      "display_name": "Python 3"
    },
    "language_info": {
      "name": "python"
    }
  },
  "cells": [
    {
      "cell_type": "markdown",
      "metadata": {
        "id": "view-in-github",
        "colab_type": "text"
      },
      "source": [
        "<a href=\"https://colab.research.google.com/github/solielmaf/pytorch/blob/main/pytorch_workflow.ipynb\" target=\"_parent\"><img src=\"https://colab.research.google.com/assets/colab-badge.svg\" alt=\"Open In Colab\"/></a>"
      ]
    },
    {
      "cell_type": "code",
      "execution_count": 1,
      "metadata": {
        "id": "J7WKaUPVM5gf"
      },
      "outputs": [],
      "source": [
        "import torch\n",
        "from torch import nn # nn conatins all of pytorch's building blocks for neural network\n",
        "import matplotlib.pyplot as plt"
      ]
    },
    {
      "cell_type": "markdown",
      "source": [
        "\n",
        " ## 1. Data(preparing and loading)\n",
        "\n",
        "\n",
        "  data can be almost anything in machine learning\n",
        "\n",
        "* Excel speadsheet\n",
        "* Images\n",
        "* videos\n",
        "* Audio\n",
        "* DNA\n",
        "* Text\n",
        "\n",
        "machine learning has two parts:\n",
        "\n",
        "1. Get data into numerical representation\n",
        "2. Build a model to learn patterns in that numerical representation\n",
        "\n",
        "We'll use linear regression formula to make a straight line with known parameters"
      ],
      "metadata": {
        "id": "b1DUCtpuPH6A"
      }
    },
    {
      "cell_type": "code",
      "source": [
        "# create *known* parameters\n",
        "weight = 0.7\n",
        "bias = 0.3\n",
        "\n",
        "start = 0\n",
        "end = 1\n",
        "step= 0.02\n",
        "X = torch.arange(start,end, step).unsqueeze(dim=1)\n",
        "Y = weight * X + bias\n",
        "\n",
        "X[:10], Y[:10]"
      ],
      "metadata": {
        "colab": {
          "base_uri": "https://localhost:8080/"
        },
        "id": "ibtZSiGFQws9",
        "outputId": "9f41e294-2e19-44d3-808c-08461872c656"
      },
      "execution_count": 2,
      "outputs": [
        {
          "output_type": "execute_result",
          "data": {
            "text/plain": [
              "(tensor([[0.0000],\n",
              "         [0.0200],\n",
              "         [0.0400],\n",
              "         [0.0600],\n",
              "         [0.0800],\n",
              "         [0.1000],\n",
              "         [0.1200],\n",
              "         [0.1400],\n",
              "         [0.1600],\n",
              "         [0.1800]]),\n",
              " tensor([[0.3000],\n",
              "         [0.3140],\n",
              "         [0.3280],\n",
              "         [0.3420],\n",
              "         [0.3560],\n",
              "         [0.3700],\n",
              "         [0.3840],\n",
              "         [0.3980],\n",
              "         [0.4120],\n",
              "         [0.4260]]))"
            ]
          },
          "metadata": {},
          "execution_count": 2
        }
      ]
    },
    {
      "cell_type": "markdown",
      "source": [
        "### Spliting data into training and test sets\n",
        "\n",
        "Create training and test set of data\n"
      ],
      "metadata": {
        "id": "7Ivkcn_RSo4I"
      }
    },
    {
      "cell_type": "code",
      "source": [
        "# Create a train/test split\n",
        "train_split = int(0.8 * len(X))\n",
        "X_train, Y_train = X[:train_split],Y[:train_split]\n",
        "X_test ,Y_test = X[train_split:],Y[train_split:]\n",
        "\n",
        "len(X_train), len(Y_train), len(X_test), len(Y_test)"
      ],
      "metadata": {
        "colab": {
          "base_uri": "https://localhost:8080/"
        },
        "id": "eh-DtJVwTfS8",
        "outputId": "3a29beb1-71d1-41a6-ee53-92ff883bd353"
      },
      "execution_count": 3,
      "outputs": [
        {
          "output_type": "execute_result",
          "data": {
            "text/plain": [
              "(40, 40, 10, 10)"
            ]
          },
          "metadata": {},
          "execution_count": 3
        }
      ]
    },
    {
      "cell_type": "markdown",
      "source": [
        "Visualize"
      ],
      "metadata": {
        "id": "Mnmjjc2ZVWhn"
      }
    },
    {
      "cell_type": "code",
      "source": [
        "def plot_predicitons( train_data= X_train,\n",
        "                     train_labels=Y_train,\n",
        "                      test_data= X_test,\n",
        "                      test_labels = Y_test,\n",
        "                      predictions= None):\n",
        "  plt.figure(figsize=(10,7))\n",
        "\n",
        "  plt.scatter(train_data,train_labels,c=\"b\", s=4, label=\"Trainig data\")\n",
        "  plt.scatter(test_data, test_labels, c=\"g\", s=4 , label=\"Testing data\")\n",
        "\n",
        "  if predictions is not None:\n",
        "    plt.scatter(test_data,predictions , c=\"r\", s=4, label=\"Predictions\")\n",
        "\n",
        "  plt.legend(prop={\"size\":14})\n",
        "\n",
        "\n"
      ],
      "metadata": {
        "id": "Ybp7jpbcVbJg"
      },
      "execution_count": 4,
      "outputs": []
    },
    {
      "cell_type": "code",
      "source": [
        "plot_predicitons()"
      ],
      "metadata": {
        "colab": {
          "base_uri": "https://localhost:8080/",
          "height": 450
        },
        "id": "QgRKBKbrYVl9",
        "outputId": "20259a96-6bb2-40ae-f098-807896d46f11"
      },
      "execution_count": 5,
      "outputs": [
        {
          "output_type": "display_data",
          "data": {
            "text/plain": [
              "<Figure size 1000x700 with 1 Axes>"
            ],
            "image/png": "[encoded data removed]"
          },
          "metadata": {}
        }
      ]
    },
    {
      "cell_type": "markdown",
      "source": [
        "##Create Model\n",
        "start with random data and adjust to become closer to the actual\n",
        "\n",
        "2 method\n",
        "1. gradient descent\n",
        "2. backpropagation"
      ],
      "metadata": {
        "id": "XW2nUn82amOU"
      }
    },
    {
      "cell_type": "code",
      "source": [
        "# create linear regression model class\n",
        "class LinearRegressionModel(nn.Module):\n",
        "  def __init__(self):\n",
        "    super().__init__()\n",
        "    self.weights = nn.Parameter(torch.rand(1, requires_grad=True, dtype=torch.float))\n",
        "    self.bias = nn.Parameter(torch.rand(1, requires_grad=True, dtype=torch.float))\n",
        "\n",
        "  #forward method to define the computation in the model\n",
        "  def forward(self, x: torch.Tensor) -> torch.Tensor:\n",
        "    return self.weights * x + self.bias\n"
      ],
      "metadata": {
        "id": "NT7lkPWYast_"
      },
      "execution_count": 6,
      "outputs": []
    },
    {
      "cell_type": "markdown",
      "source": [
        "## model building essentials\n",
        "\n",
        "- torch.nn - conatin all buidings for computational graphs (neural network)\n",
        "\n",
        "- torch.nn.Parameter - what parameter should our model try to Learn\n",
        "\n",
        "- torch.nn.Module - base class for all modules, if there is subclass overwrite forward\n",
        "- torch.optim - where optimizer live and help the gradient descent\n",
        "- def forward() -all nn.Module subclasses need overwrite forward\n"
      ],
      "metadata": {
        "id": "oeDzzk7Yk3nv"
      }
    },
    {
      "cell_type": "markdown",
      "source": [
        "check our model parameter .Parameter"
      ],
      "metadata": {
        "id": "nLB5a26ToIZK"
      }
    },
    {
      "cell_type": "code",
      "source": [
        "torch.manual_seed(42)\n",
        "\n",
        "model_0 = LinearRegressionModel()\n",
        "list(model_0.parameters())\n"
      ],
      "metadata": {
        "colab": {
          "base_uri": "https://localhost:8080/"
        },
        "id": "NfvthT7Jpgmo",
        "outputId": "80ae610b-1a6c-42f9-c75f-cfa876d774b5"
      },
      "execution_count": 7,
      "outputs": [
        {
          "output_type": "execute_result",
          "data": {
            "text/plain": [
              "[Parameter containing:\n",
              " tensor([0.8823], requires_grad=True),\n",
              " Parameter containing:\n",
              " tensor([0.9150], requires_grad=True)]"
            ]
          },
          "metadata": {},
          "execution_count": 7
        }
      ]
    },
    {
      "cell_type": "code",
      "source": [
        "model_0.state_dict()"
      ],
      "metadata": {
        "colab": {
          "base_uri": "https://localhost:8080/"
        },
        "id": "ZEcigjzSquhD",
        "outputId": "ede53578-79be-4d40-f21e-ab7d67cd585e"
      },
      "execution_count": 8,
      "outputs": [
        {
          "output_type": "execute_result",
          "data": {
            "text/plain": [
              "OrderedDict([('weights', tensor([0.8823])), ('bias', tensor([0.9150]))])"
            ]
          },
          "metadata": {},
          "execution_count": 8
        }
      ]
    },
    {
      "cell_type": "markdown",
      "source": [
        "## Making prediction using torch.inference_model()"
      ],
      "metadata": {
        "id": "ElwS055NrLz_"
      }
    },
    {
      "cell_type": "code",
      "source": [
        "with torch.inference_mode():\n",
        "  y_pred = model_0(X_test)\n",
        "\n",
        "\n",
        "y_pred"
      ],
      "metadata": {
        "colab": {
          "base_uri": "https://localhost:8080/"
        },
        "id": "hCOdbg5qsLLm",
        "outputId": "44d7f98c-bf95-48b4-a85e-c4c173fca68f"
      },
      "execution_count": 9,
      "outputs": [
        {
          "output_type": "execute_result",
          "data": {
            "text/plain": [
              "tensor([[1.6208],\n",
              "        [1.6385],\n",
              "        [1.6561],\n",
              "        [1.6738],\n",
              "        [1.6914],\n",
              "        [1.7090],\n",
              "        [1.7267],\n",
              "        [1.7443],\n",
              "        [1.7620],\n",
              "        [1.7796]])"
            ]
          },
          "metadata": {},
          "execution_count": 9
        }
      ]
    },
    {
      "cell_type": "code",
      "source": [
        "plot_predicitons(predictions=y_pred)"
      ],
      "metadata": {
        "colab": {
          "base_uri": "https://localhost:8080/",
          "height": 450
        },
        "id": "UAl6h7MJtVX3",
        "outputId": "06262505-9df2-4a6f-d353-e114ceb3ace9"
      },
      "execution_count": 10,
      "outputs": [
        {
          "output_type": "display_data",
          "data": {
            "text/plain": [
              "<Figure size 1000x700 with 1 Axes>"
            ],
            "image/png": "[encoded data removed]"
          },
          "metadata": {}
        }
      ]
    },
    {
      "cell_type": "markdown",
      "source": [
        "## loss function//cost ( how wrong the prediction is)\n",
        "\n",
        "- loss function\n",
        "- optimizer -adjust model parameter\n",
        "\n",
        "we need\n",
        "- training loop\n",
        "- testing loop"
      ],
      "metadata": {
        "id": "0J2ZGXBIu15J"
      }
    },
    {
      "cell_type": "code",
      "source": [
        "model_0.state_dict()"
      ],
      "metadata": {
        "colab": {
          "base_uri": "https://localhost:8080/"
        },
        "id": "MBBd26Egu-Oq",
        "outputId": "5d26cf67-fd07-49d8-d9da-b86117cb3a58"
      },
      "execution_count": 11,
      "outputs": [
        {
          "output_type": "execute_result",
          "data": {
            "text/plain": [
              "OrderedDict([('weights', tensor([0.8823])), ('bias', tensor([0.9150]))])"
            ]
          },
          "metadata": {},
          "execution_count": 11
        }
      ]
    },
    {
      "cell_type": "code",
      "source": [
        "# setup a loss function\n",
        "loss_fn = nn.L1Loss()\n",
        "\n",
        "#setup a loss function\n",
        "optimizer = torch.optim.SGD(params=model_0.parameters(),lr=0.01) # lr learning right the smaller the value the smaller the change ,hyperparameter that we set"
      ],
      "metadata": {
        "id": "kc-H1_JswzSC"
      },
      "execution_count": 12,
      "outputs": []
    },
    {
      "cell_type": "markdown",
      "source": [
        "### Building training loop (and testing loop)\n",
        "\n",
        "A we need\n",
        "\n",
        "0. loop thorugh the data\n",
        "1. Forward pass  - data moving through our model's forward() functions (forward propagation)\n",
        "2. Calculate the loss ( compare forward pass prediction to the truth)\n",
        "3. Optimizer zero grad\n",
        "4. Loss backward- backpropagation\n",
        "5. Optimizer step - gradient descent\n"
      ],
      "metadata": {
        "id": "yjPxXhq4yt81"
      }
    },
    {
      "cell_type": "code",
      "source": [
        "# an epoch is one loop throu the data\n",
        "epochs = 100\n",
        "epoch_count = []\n",
        "loss_values = []\n",
        "test_loss_values = []\n",
        "\n",
        "# loop through the data\n",
        "for epoch in range(epochs):\n",
        "  model_0.train() # train mode sets all parameter that require gradient to require gradient\n",
        "  # 1. Forward pass\n",
        "  y_pred = model_0(X_train)\n",
        "\n",
        "  #2. Calculate the loss\n",
        "  loss = loss_fn(y_pred, Y_train)\n",
        "  print(f\"Loss: {loss}\")\n",
        "\n",
        "  #3. optimizer zero\n",
        "  optimizer.zero_grad()\n",
        "\n",
        "  #4 Loss backward\n",
        "  loss.backward()\n",
        "\n",
        "  #5. Optimizer step\n",
        "  optimizer.step()\n",
        "  model_0.eval() # turns off gradient tracking\n",
        "  with torch.inference_mode():\n",
        "    test_pred = model_0(X_test)\n",
        "    test_loss = loss_fn(test_pred, Y_test)\n",
        "  if epochs % 10 == 0:\n",
        "    epoch_count.append(epoch)\n",
        "    loss_values.append(loss)\n",
        "    test_loss_values.append(test_loss)\n",
        "    print(f\"Test loss: {test_loss}\")\n",
        "\n",
        "    print( model_0.state_dict())"
      ],
      "metadata": {
        "colab": {
          "base_uri": "https://localhost:8080/"
        },
        "id": "5sevr09tVWhR",
        "outputId": "56fe26f4-e1c2-42ba-8683-e4d249757066"
      },
      "execution_count": 13,
      "outputs": [
        {
          "output_type": "stream",
          "name": "stdout",
          "text": [
            "Loss: 0.6860889196395874\n",
            "Test loss: 0.7637526988983154\n",
            "OrderedDict({'weights': tensor([0.8784]), 'bias': tensor([0.9050])})\n",
            "Loss: 0.6745679974555969\n",
            "Test loss: 0.7502816915512085\n",
            "OrderedDict({'weights': tensor([0.8745]), 'bias': tensor([0.8950])})\n",
            "Loss: 0.6630470156669617\n",
            "Test loss: 0.7368106245994568\n",
            "OrderedDict({'weights': tensor([0.8706]), 'bias': tensor([0.8850])})\n",
            "Loss: 0.6515260338783264\n",
            "Test loss: 0.7233396768569946\n",
            "OrderedDict({'weights': tensor([0.8667]), 'bias': tensor([0.8750])})\n",
            "Loss: 0.6400049924850464\n",
            "Test loss: 0.7098686695098877\n",
            "OrderedDict({'weights': tensor([0.8628]), 'bias': tensor([0.8650])})\n",
            "Loss: 0.6284840703010559\n",
            "Test loss: 0.6963977217674255\n",
            "OrderedDict({'weights': tensor([0.8589]), 'bias': tensor([0.8550])})\n",
            "Loss: 0.6169630289077759\n",
            "Test loss: 0.6829267144203186\n",
            "OrderedDict({'weights': tensor([0.8550]), 'bias': tensor([0.8450])})\n",
            "Loss: 0.6054420471191406\n",
            "Test loss: 0.6694557666778564\n",
            "OrderedDict({'weights': tensor([0.8511]), 'bias': tensor([0.8350])})\n",
            "Loss: 0.5939210653305054\n",
            "Test loss: 0.6559847593307495\n",
            "OrderedDict({'weights': tensor([0.8472]), 'bias': tensor([0.8250])})\n",
            "Loss: 0.5824000239372253\n",
            "Test loss: 0.6425138115882874\n",
            "OrderedDict({'weights': tensor([0.8433]), 'bias': tensor([0.8150])})\n",
            "Loss: 0.5708791017532349\n",
            "Test loss: 0.6290428042411804\n",
            "OrderedDict({'weights': tensor([0.8394]), 'bias': tensor([0.8050])})\n",
            "Loss: 0.5593580603599548\n",
            "Test loss: 0.6155718564987183\n",
            "OrderedDict({'weights': tensor([0.8355]), 'bias': tensor([0.7950])})\n",
            "Loss: 0.5478371381759644\n",
            "Test loss: 0.6021007895469666\n",
            "OrderedDict({'weights': tensor([0.8316]), 'bias': tensor([0.7850])})\n",
            "Loss: 0.5363161563873291\n",
            "Test loss: 0.5886298418045044\n",
            "OrderedDict({'weights': tensor([0.8277]), 'bias': tensor([0.7750])})\n",
            "Loss: 0.5247951149940491\n",
            "Test loss: 0.5751588940620422\n",
            "OrderedDict({'weights': tensor([0.8238]), 'bias': tensor([0.7650])})\n",
            "Loss: 0.5132741332054138\n",
            "Test loss: 0.5616878271102905\n",
            "OrderedDict({'weights': tensor([0.8199]), 'bias': tensor([0.7550])})\n",
            "Loss: 0.5017532110214233\n",
            "Test loss: 0.5482169389724731\n",
            "OrderedDict({'weights': tensor([0.8160]), 'bias': tensor([0.7450])})\n",
            "Loss: 0.4902321696281433\n",
            "Test loss: 0.5347458720207214\n",
            "OrderedDict({'weights': tensor([0.8121]), 'bias': tensor([0.7350])})\n",
            "Loss: 0.47871121764183044\n",
            "Test loss: 0.5212749242782593\n",
            "OrderedDict({'weights': tensor([0.8082]), 'bias': tensor([0.7250])})\n",
            "Loss: 0.4671902060508728\n",
            "Test loss: 0.5078039169311523\n",
            "OrderedDict({'weights': tensor([0.8043]), 'bias': tensor([0.7150])})\n",
            "Loss: 0.45566922426223755\n",
            "Test loss: 0.4943329691886902\n",
            "OrderedDict({'weights': tensor([0.8004]), 'bias': tensor([0.7050])})\n",
            "Loss: 0.4441482126712799\n",
            "Test loss: 0.48086196184158325\n",
            "OrderedDict({'weights': tensor([0.7965]), 'bias': tensor([0.6950])})\n",
            "Loss: 0.43262726068496704\n",
            "Test loss: 0.4673910140991211\n",
            "OrderedDict({'weights': tensor([0.7926]), 'bias': tensor([0.6850])})\n",
            "Loss: 0.4211062490940094\n",
            "Test loss: 0.45392003655433655\n",
            "OrderedDict({'weights': tensor([0.7887]), 'bias': tensor([0.6750])})\n",
            "Loss: 0.40958523750305176\n",
            "Test loss: 0.4404489994049072\n",
            "OrderedDict({'weights': tensor([0.7848]), 'bias': tensor([0.6650])})\n",
            "Loss: 0.3980643153190613\n",
            "Test loss: 0.42697805166244507\n",
            "OrderedDict({'weights': tensor([0.7809]), 'bias': tensor([0.6550])})\n",
            "Loss: 0.38654330372810364\n",
            "Test loss: 0.41350704431533813\n",
            "OrderedDict({'weights': tensor([0.7770]), 'bias': tensor([0.6450])})\n",
            "Loss: 0.375022292137146\n",
            "Test loss: 0.4000360369682312\n",
            "OrderedDict({'weights': tensor([0.7731]), 'bias': tensor([0.6350])})\n",
            "Loss: 0.36350134015083313\n",
            "Test loss: 0.38656511902809143\n",
            "OrderedDict({'weights': tensor([0.7692]), 'bias': tensor([0.6250])})\n",
            "Loss: 0.3519803285598755\n",
            "Test loss: 0.3730941116809845\n",
            "OrderedDict({'weights': tensor([0.7653]), 'bias': tensor([0.6150])})\n",
            "Loss: 0.34045934677124023\n",
            "Test loss: 0.35962313413619995\n",
            "OrderedDict({'weights': tensor([0.7614]), 'bias': tensor([0.6050])})\n",
            "Loss: 0.328938364982605\n",
            "Test loss: 0.346152126789093\n",
            "OrderedDict({'weights': tensor([0.7575]), 'bias': tensor([0.5950])})\n",
            "Loss: 0.31741735339164734\n",
            "Test loss: 0.33268117904663086\n",
            "OrderedDict({'weights': tensor([0.7536]), 'bias': tensor([0.5850])})\n",
            "Loss: 0.3058963716030121\n",
            "Test loss: 0.3192101716995239\n",
            "OrderedDict({'weights': tensor([0.7497]), 'bias': tensor([0.5750])})\n",
            "Loss: 0.2943754196166992\n",
            "Test loss: 0.3057391941547394\n",
            "OrderedDict({'weights': tensor([0.7458]), 'bias': tensor([0.5650])})\n",
            "Loss: 0.2828544080257416\n",
            "Test loss: 0.29226821660995483\n",
            "OrderedDict({'weights': tensor([0.7419]), 'bias': tensor([0.5550])})\n",
            "Loss: 0.2713334262371063\n",
            "Test loss: 0.2787972390651703\n",
            "OrderedDict({'weights': tensor([0.7380]), 'bias': tensor([0.5450])})\n",
            "Loss: 0.25981244444847107\n",
            "Test loss: 0.26532623171806335\n",
            "OrderedDict({'weights': tensor([0.7341]), 'bias': tensor([0.5350])})\n",
            "Loss: 0.24829146265983582\n",
            "Test loss: 0.2518552839756012\n",
            "OrderedDict({'weights': tensor([0.7302]), 'bias': tensor([0.5250])})\n",
            "Loss: 0.23677048087120056\n",
            "Test loss: 0.23838429152965546\n",
            "OrderedDict({'weights': tensor([0.7263]), 'bias': tensor([0.5150])})\n",
            "Loss: 0.2252494841814041\n",
            "Test loss: 0.2249133139848709\n",
            "OrderedDict({'weights': tensor([0.7224]), 'bias': tensor([0.5050])})\n",
            "Loss: 0.21372847259044647\n",
            "Test loss: 0.21144230663776398\n",
            "OrderedDict({'weights': tensor([0.7185]), 'bias': tensor([0.4950])})\n",
            "Loss: 0.20220749080181122\n",
            "Test loss: 0.19797134399414062\n",
            "OrderedDict({'weights': tensor([0.7146]), 'bias': tensor([0.4850])})\n",
            "Loss: 0.19068653881549835\n",
            "Test loss: 0.1845003366470337\n",
            "OrderedDict({'weights': tensor([0.7107]), 'bias': tensor([0.4750])})\n",
            "Loss: 0.1791655272245407\n",
            "Test loss: 0.17102937400341034\n",
            "OrderedDict({'weights': tensor([0.7068]), 'bias': tensor([0.4650])})\n",
            "Loss: 0.16764454543590546\n",
            "Test loss: 0.157558411359787\n",
            "OrderedDict({'weights': tensor([0.7029]), 'bias': tensor([0.4550])})\n",
            "Loss: 0.156123548746109\n",
            "Test loss: 0.14408738911151886\n",
            "OrderedDict({'weights': tensor([0.6990]), 'bias': tensor([0.4450])})\n",
            "Loss: 0.14460256695747375\n",
            "Test loss: 0.13061639666557312\n",
            "OrderedDict({'weights': tensor([0.6951]), 'bias': tensor([0.4350])})\n",
            "Loss: 0.1330815702676773\n",
            "Test loss: 0.11714544147253036\n",
            "OrderedDict({'weights': tensor([0.6912]), 'bias': tensor([0.4250])})\n",
            "Loss: 0.12156059592962265\n",
            "Test loss: 0.10367444902658463\n",
            "OrderedDict({'weights': tensor([0.6873]), 'bias': tensor([0.4150])})\n",
            "Loss: 0.1100396141409874\n",
            "Test loss: 0.09020347893238068\n",
            "OrderedDict({'weights': tensor([0.6834]), 'bias': tensor([0.4050])})\n",
            "Loss: 0.09851861745119095\n",
            "Test loss: 0.07673247158527374\n",
            "OrderedDict({'weights': tensor([0.6795]), 'bias': tensor([0.3950])})\n",
            "Loss: 0.0869976356625557\n",
            "Test loss: 0.06326152384281158\n",
            "OrderedDict({'weights': tensor([0.6756]), 'bias': tensor([0.3850])})\n",
            "Loss: 0.07547664642333984\n",
            "Test loss: 0.04979051277041435\n",
            "OrderedDict({'weights': tensor([0.6717]), 'bias': tensor([0.3750])})\n",
            "Loss: 0.06395565718412399\n",
            "Test loss: 0.0363195538520813\n",
            "OrderedDict({'weights': tensor([0.6678]), 'bias': tensor([0.3650])})\n",
            "Loss: 0.05243467539548874\n",
            "Test loss: 0.02284855768084526\n",
            "OrderedDict({'weights': tensor([0.6639]), 'bias': tensor([0.3550])})\n",
            "Loss: 0.04091368243098259\n",
            "Test loss: 0.009377574548125267\n",
            "OrderedDict({'weights': tensor([0.6600]), 'bias': tensor([0.3450])})\n",
            "Loss: 0.029392695054411888\n",
            "Test loss: 0.0040934025309979916\n",
            "OrderedDict({'weights': tensor([0.6561]), 'bias': tensor([0.3350])})\n",
            "Loss: 0.017871711403131485\n",
            "Test loss: 0.017564397305250168\n",
            "OrderedDict({'weights': tensor([0.6522]), 'bias': tensor([0.3250])})\n",
            "Loss: 0.010616960003972054\n",
            "Test loss: 0.020717304199934006\n",
            "OrderedDict({'weights': tensor([0.6526]), 'bias': tensor([0.3215])})\n",
            "Loss: 0.009724985808134079\n",
            "Test loss: 0.020998019725084305\n",
            "OrderedDict({'weights': tensor([0.6539]), 'bias': tensor([0.3200])})\n",
            "Loss: 0.009325616993010044\n",
            "Test loss: 0.0205828957259655\n",
            "OrderedDict({'weights': tensor([0.6555]), 'bias': tensor([0.3190])})\n",
            "Loss: 0.00897279754281044\n",
            "Test loss: 0.02016776241362095\n",
            "OrderedDict({'weights': tensor([0.6571]), 'bias': tensor([0.3180])})\n",
            "Loss: 0.008620461449027061\n",
            "Test loss: 0.01906575635075569\n",
            "OrderedDict({'weights': tensor([0.6589]), 'bias': tensor([0.3175])})\n",
            "Loss: 0.008283796720206738\n",
            "Test loss: 0.018650632351636887\n",
            "OrderedDict({'weights': tensor([0.6605]), 'bias': tensor([0.3165])})\n",
            "Loss: 0.007935261353850365\n",
            "Test loss: 0.01754862628877163\n",
            "OrderedDict({'weights': tensor([0.6623]), 'bias': tensor([0.3160])})\n",
            "Loss: 0.007594785653054714\n",
            "Test loss: 0.017133492976427078\n",
            "OrderedDict({'weights': tensor([0.6639]), 'bias': tensor([0.3150])})\n",
            "Loss: 0.007250060793012381\n",
            "Test loss: 0.01603149250149727\n",
            "OrderedDict({'weights': tensor([0.6657]), 'bias': tensor([0.3145])})\n",
            "Loss: 0.00690577644854784\n",
            "Test loss: 0.015616369433701038\n",
            "OrderedDict({'weights': tensor([0.6673]), 'bias': tensor([0.3135])})\n",
            "Loss: 0.0065648676827549934\n",
            "Test loss: 0.014514368958771229\n",
            "OrderedDict({'weights': tensor([0.6691]), 'bias': tensor([0.3130])})\n",
            "Loss: 0.006216754671186209\n",
            "Test loss: 0.014099234715104103\n",
            "OrderedDict({'weights': tensor([0.6707]), 'bias': tensor([0.3120])})\n",
            "Loss: 0.005879654549062252\n",
            "Test loss: 0.012997227720916271\n",
            "OrderedDict({'weights': tensor([0.6725]), 'bias': tensor([0.3115])})\n",
            "Loss: 0.0055306581780314445\n",
            "Test loss: 0.011895209550857544\n",
            "OrderedDict({'weights': tensor([0.6743]), 'bias': tensor([0.3110])})\n",
            "Loss: 0.0051915524527430534\n",
            "Test loss: 0.011480098590254784\n",
            "OrderedDict({'weights': tensor([0.6759]), 'bias': tensor([0.3100])})\n",
            "Loss: 0.0048454562202095985\n",
            "Test loss: 0.010378086939454079\n",
            "OrderedDict({'weights': tensor([0.6777]), 'bias': tensor([0.3095])})\n",
            "Loss: 0.004502544645220041\n",
            "Test loss: 0.009962963871657848\n",
            "OrderedDict({'weights': tensor([0.6792]), 'bias': tensor([0.3085])})\n",
            "Loss: 0.004160256590694189\n",
            "Test loss: 0.008860963396728039\n",
            "OrderedDict({'weights': tensor([0.6810]), 'bias': tensor([0.3080])})\n",
            "Loss: 0.00381353497505188\n",
            "Test loss: 0.008445841260254383\n",
            "OrderedDict({'weights': tensor([0.6826]), 'bias': tensor([0.3070])})\n",
            "Loss: 0.003475042525678873\n",
            "Test loss: 0.0073438226245343685\n",
            "OrderedDict({'weights': tensor([0.6844]), 'bias': tensor([0.3065])})\n",
            "Loss: 0.003126060124486685\n",
            "Test loss: 0.006241828203201294\n",
            "OrderedDict({'weights': tensor([0.6862]), 'bias': tensor([0.3060])})\n",
            "Loss: 0.002788322512060404\n",
            "Test loss: 0.005826681852340698\n",
            "OrderedDict({'weights': tensor([0.6878]), 'bias': tensor([0.3050])})\n",
            "Loss: 0.0024408488534390926\n",
            "Test loss: 0.004724687431007624\n",
            "OrderedDict({'weights': tensor([0.6896]), 'bias': tensor([0.3045])})\n",
            "Loss: 0.002099317265674472\n",
            "Test loss: 0.004309558775275946\n",
            "OrderedDict({'weights': tensor([0.6912]), 'bias': tensor([0.3035])})\n",
            "Loss: 0.0017560191918164492\n",
            "Test loss: 0.0025295913219451904\n",
            "OrderedDict({'weights': tensor([0.6932]), 'bias': tensor([0.3035])})\n",
            "Loss: 0.001492114388383925\n",
            "Test loss: 0.00495107751339674\n",
            "OrderedDict({'weights': tensor([0.6939]), 'bias': tensor([0.3005])})\n",
            "Loss: 0.0019509084522724152\n",
            "Test loss: 0.005930870771408081\n",
            "OrderedDict({'weights': tensor([0.6977]), 'bias': tensor([0.3080])})\n",
            "Loss: 0.007095950655639172\n",
            "Test loss: 0.00754010071977973\n",
            "OrderedDict({'weights': tensor([0.6938]), 'bias': tensor([0.2980])})\n",
            "Loss: 0.004425036255270243\n",
            "Test loss: 0.005930870771408081\n",
            "OrderedDict({'weights': tensor([0.6977]), 'bias': tensor([0.3080])})\n",
            "Loss: 0.007095950655639172\n",
            "Test loss: 0.00754010071977973\n",
            "OrderedDict({'weights': tensor([0.6938]), 'bias': tensor([0.2980])})\n",
            "Loss: 0.004425036255270243\n",
            "Test loss: 0.005930870771408081\n",
            "OrderedDict({'weights': tensor([0.6977]), 'bias': tensor([0.3080])})\n",
            "Loss: 0.007095950655639172\n",
            "Test loss: 0.00754010071977973\n",
            "OrderedDict({'weights': tensor([0.6938]), 'bias': tensor([0.2980])})\n",
            "Loss: 0.004425036255270243\n",
            "Test loss: 0.005930870771408081\n",
            "OrderedDict({'weights': tensor([0.6977]), 'bias': tensor([0.3080])})\n",
            "Loss: 0.007095950655639172\n",
            "Test loss: 0.00754010071977973\n",
            "OrderedDict({'weights': tensor([0.6938]), 'bias': tensor([0.2980])})\n",
            "Loss: 0.004425036255270243\n",
            "Test loss: 0.005930870771408081\n",
            "OrderedDict({'weights': tensor([0.6977]), 'bias': tensor([0.3080])})\n",
            "Loss: 0.007095950655639172\n",
            "Test loss: 0.00754010071977973\n",
            "OrderedDict({'weights': tensor([0.6938]), 'bias': tensor([0.2980])})\n",
            "Loss: 0.004425036255270243\n",
            "Test loss: 0.005930870771408081\n",
            "OrderedDict({'weights': tensor([0.6977]), 'bias': tensor([0.3080])})\n",
            "Loss: 0.007095950655639172\n",
            "Test loss: 0.00754010071977973\n",
            "OrderedDict({'weights': tensor([0.6938]), 'bias': tensor([0.2980])})\n",
            "Loss: 0.004425036255270243\n",
            "Test loss: 0.005930870771408081\n",
            "OrderedDict({'weights': tensor([0.6977]), 'bias': tensor([0.3080])})\n",
            "Loss: 0.007095950655639172\n",
            "Test loss: 0.00754010071977973\n",
            "OrderedDict({'weights': tensor([0.6938]), 'bias': tensor([0.2980])})\n",
            "Loss: 0.004425036255270243\n",
            "Test loss: 0.005930870771408081\n",
            "OrderedDict({'weights': tensor([0.6977]), 'bias': tensor([0.3080])})\n"
          ]
        }
      ]
    },
    {
      "cell_type": "code",
      "source": [
        "with torch.inference_mode():\n",
        "  y_preds_new=model_0(X_test)\n",
        "  print(y_preds_new)"
      ],
      "metadata": {
        "colab": {
          "base_uri": "https://localhost:8080/"
        },
        "id": "07N6Pf44gq37",
        "outputId": "fb650036-6906-4007-d38c-f524c804dc97"
      },
      "execution_count": 14,
      "outputs": [
        {
          "output_type": "stream",
          "name": "stdout",
          "text": [
            "tensor([[0.8661],\n",
            "        [0.8801],\n",
            "        [0.8940],\n",
            "        [0.9080],\n",
            "        [0.9220],\n",
            "        [0.9359],\n",
            "        [0.9499],\n",
            "        [0.9638],\n",
            "        [0.9778],\n",
            "        [0.9917]])\n"
          ]
        }
      ]
    },
    {
      "cell_type": "code",
      "source": [
        "plot_predicitons(predictions=y_preds_new)"
      ],
      "metadata": {
        "colab": {
          "base_uri": "https://localhost:8080/",
          "height": 450
        },
        "id": "UAucmNlPg-If",
        "outputId": "b478c728-7d47-43d1-ef55-83b31650ac9a"
      },
      "execution_count": 15,
      "outputs": [
        {
          "output_type": "display_data",
          "data": {
            "text/plain": [
              "<Figure size 1000x700 with 1 Axes>"
            ],
            "image/png": "[encoded data removed]"
          },
          "metadata": {}
        }
      ]
    },
    {
      "cell_type": "code",
      "source": [
        "import numpy as np\n",
        "plt.plot(epoch_count, np.array(torch.tensor(loss_values).numpy()), label=\"Train loss\")\n",
        "plt.plot(epoch_count, test_loss_values, label=\"Test loss\")\n",
        "plt.ylabel(\"Loss\")\n",
        "plt.xlabel(\"epochs\")\n",
        "plt.legend()\n"
      ],
      "metadata": {
        "colab": {
          "base_uri": "https://localhost:8080/",
          "height": 543
        },
        "id": "vNeIfYfonPtx",
        "outputId": "18ac69ef-c8ac-4114-f931-fb4c97fdecee"
      },
      "execution_count": 16,
      "outputs": [
        {
          "output_type": "stream",
          "name": "stderr",
          "text": [
            "/tmp/ipython-input-746867348.py:2: UserWarning: Converting a tensor with requires_grad=True to a scalar may lead to unexpected behavior.\n",
            "Consider using tensor.detach() first. (Triggered internally at /pytorch/torch/csrc/autograd/generated/python_variable_methods.cpp:835.)\n",
            "  plt.plot(epoch_count, np.array(torch.tensor(loss_values).numpy()), label=\"Train loss\")\n"
          ]
        },
        {
          "output_type": "execute_result",
          "data": {
            "text/plain": [
              "<matplotlib.legend.Legend at 0x7d846c902c00>"
            ]
          },
          "metadata": {},
          "execution_count": 16
        },
        {
          "output_type": "display_data",
          "data": {
            "text/plain": [
              "<Figure size 640x480 with 1 Axes>"
            ],
            "image/png": "[encoded data removed]"
          },
          "metadata": {}
        }
      ]
    }
  ]
}